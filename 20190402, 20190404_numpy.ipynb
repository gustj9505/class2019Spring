{
 "cells": [
  {
   "cell_type": "markdown",
   "metadata": {},
   "source": [
    "### NumPy basics"
   ]
  },
  {
   "cell_type": "markdown",
   "metadata": {},
   "source": [
    "#### 1. Creation"
   ]
  },
  {
   "cell_type": "code",
   "execution_count": 1,
   "metadata": {},
   "outputs": [],
   "source": [
    "import numpy as np\n",
    "import matplotlib.pyplot as plt"
   ]
  },
  {
   "cell_type": "code",
   "execution_count": 4,
   "metadata": {},
   "outputs": [
    {
     "data": {
      "text/plain": [
       "array([[         0, 1072168960,          0],\n",
       "       [1072168960,          0,          0]])"
      ]
     },
     "execution_count": 4,
     "metadata": {},
     "output_type": "execute_result"
    }
   ],
   "source": [
    "np.empty([2,3], dtype = 'int')\n",
    "# 각 항목의 값은 항상 랜덤으로 나온다. "
   ]
  },
  {
   "cell_type": "code",
   "execution_count": 5,
   "metadata": {},
   "outputs": [
    {
     "data": {
      "text/plain": [
       "array([[0., 0., 0.],\n",
       "       [0., 0., 0.]])"
      ]
     },
     "execution_count": 5,
     "metadata": {},
     "output_type": "execute_result"
    }
   ],
   "source": [
    "np.zeros([2,3])"
   ]
  },
  {
   "cell_type": "code",
   "execution_count": 6,
   "metadata": {},
   "outputs": [
    {
     "data": {
      "text/plain": [
       "array([0., 2., 4., 6., 8.])"
      ]
     },
     "execution_count": 6,
     "metadata": {},
     "output_type": "execute_result"
    }
   ],
   "source": [
    "np.arange(0,10,2, dtype = 'float64')\n",
    "#0부터 10까지 2씩 올리면서 탐색. 0은 포함, 10은 포함안함\n",
    "#float도 되고, float64는 소숫점 아래 숫자가 훨씬 많은 케이스"
   ]
  },
  {
   "cell_type": "code",
   "execution_count": 7,
   "metadata": {},
   "outputs": [
    {
     "data": {
      "text/plain": [
       "array([ 0.,  2.,  4.,  6.,  8., 10.])"
      ]
     },
     "execution_count": 7,
     "metadata": {},
     "output_type": "execute_result"
    }
   ],
   "source": [
    "np.linspace(0,10,6, dtype = float)"
   ]
  },
  {
   "cell_type": "code",
   "execution_count": 9,
   "metadata": {},
   "outputs": [
    {
     "data": {
      "text/plain": [
       "[[1, 2, 3], [4, 5, 6]]"
      ]
     },
     "execution_count": 9,
     "metadata": {},
     "output_type": "execute_result"
    }
   ],
   "source": [
    "[[1,2,3],[4,5,6]]\n",
    "#list 안에 list가 들어간다. "
   ]
  },
  {
   "cell_type": "code",
   "execution_count": 10,
   "metadata": {},
   "outputs": [
    {
     "data": {
      "text/plain": [
       "array([[1, 2, 3],\n",
       "       [4, 5, 6]])"
      ]
     },
     "execution_count": 10,
     "metadata": {},
     "output_type": "execute_result"
    }
   ],
   "source": [
    "a = [[1,2,3],[4,5,6]]\n",
    "X = np.array(a) #X = np.array([[1,2,3],[4,5,6]])\n",
    "X\n",
    "#list 안에 list가 들어 있는 것. array 안에 넣으면 배열화/행렬화 된다. "
   ]
  },
  {
   "cell_type": "code",
   "execution_count": 11,
   "metadata": {},
   "outputs": [
    {
     "data": {
      "text/plain": [
       "array([[1., 2., 3.],\n",
       "       [4., 5., 6.]])"
      ]
     },
     "execution_count": 11,
     "metadata": {},
     "output_type": "execute_result"
    }
   ],
   "source": [
    "X.astype(np.float64)"
   ]
  },
  {
   "cell_type": "code",
   "execution_count": 12,
   "metadata": {},
   "outputs": [
    {
     "data": {
      "text/plain": [
       "array([[0, 0, 0],\n",
       "       [0, 0, 0]])"
      ]
     },
     "execution_count": 12,
     "metadata": {},
     "output_type": "execute_result"
    }
   ],
   "source": [
    "np.zeros_like(X)"
   ]
  },
  {
   "cell_type": "code",
   "execution_count": 13,
   "metadata": {},
   "outputs": [
    {
     "name": "stdout",
     "output_type": "stream",
     "text": [
      "[-0.90230939 -0.66317805  1.2402714  -0.46790856 -1.34256524  1.34212219\n",
      " -0.39046397 -0.08538237  0.60456232 -0.37569241  0.60114799  0.19100023\n",
      " -1.32914009 -0.44743302  0.50069751  0.0362174  -1.69111104  1.35124482\n",
      "  0.28387113 -0.10584416 -0.63782617 -1.11557168 -0.24001768  0.69226782\n",
      " -2.58298368  0.61679232 -1.0377232  -2.34645989  1.08701971  0.82441928\n",
      " -0.61272336 -0.02973311  1.08103913 -1.67457962 -1.00038241 -0.58164768\n",
      "  0.69406965  0.03871202  0.37803766 -1.47602503 -0.0906321   0.58805279\n",
      "  0.39760949  0.92805063 -1.41454315  1.12127676  1.40353289  1.72806583\n",
      "  1.39413073  1.67082166 -1.05354265  0.50135431 -1.5479254  -0.3620304\n",
      " -0.48398439  1.73849754  0.27868801 -1.43203637  0.51105365 -0.9273283\n",
      "  0.20080345  0.80556392  0.88285035 -0.68459666 -0.14612422  1.04242565\n",
      " -1.04329813 -0.43597944 -2.09853425 -0.30680655 -0.80440948  0.2983207\n",
      " -0.72578673 -0.54134425  0.78927927 -1.12906147  2.33638581 -0.56362813\n",
      " -0.54014825  0.62284396 -0.53515694  0.85740437  1.34006238  0.30241241\n",
      " -0.59331727  2.34196421 -1.24298004 -0.21929104  0.63760363  0.98273549\n",
      " -0.50319214 -0.04402704 -1.08605277 -0.87511901 -2.35377325 -0.90285642\n",
      "  0.01306069 -0.56848908 -0.08598234  0.44496362]\n"
     ]
    },
    {
     "data": {
      "image/png": "[encoded data removed]",
      "text/plain": [
       "<Figure size 432x288 with 1 Axes>"
      ]
     },
     "metadata": {
      "needs_background": "light"
     },
     "output_type": "display_data"
    }
   ],
   "source": [
    "data = np.random.normal(0,1,100)\n",
    "#random number를 만들어준다. 0을 평균값으로 하고, 1이 표준편차인 100개의 랜덤 넘버를 만들어라.\n",
    "print(data)\n",
    "plt.hist(data, bins = 10)\n",
    "#항목이 10개인 히스토그램을 그려라. x축은 범위, y축은 그 범위에 해당하는 개수. \n",
    "plt.show()"
   ]
  },
  {
   "cell_type": "markdown",
   "metadata": {},
   "source": [
    "### 2. Manipulation"
   ]
  },
  {
   "cell_type": "code",
   "execution_count": 14,
   "metadata": {
    "scrolled": true
   },
   "outputs": [
    {
     "data": {
      "text/plain": [
       "array([[[1., 1., 1., 1.],\n",
       "        [1., 1., 1., 1.],\n",
       "        [1., 1., 1., 1.]],\n",
       "\n",
       "       [[1., 1., 1., 1.],\n",
       "        [1., 1., 1., 1.],\n",
       "        [1., 1., 1., 1.]]])"
      ]
     },
     "execution_count": 14,
     "metadata": {},
     "output_type": "execute_result"
    }
   ],
   "source": [
    "X = np.ones([2, 3, 4])\n",
    "X\n",
    "#bracket이 n개가 있다면 n차원이다. 2개 + 3개 + 4개"
   ]
  },
  {
   "cell_type": "code",
   "execution_count": 17,
   "metadata": {},
   "outputs": [
    {
     "data": {
      "text/plain": [
       "array([[[1., 1.],\n",
       "        [1., 1.],\n",
       "        [1., 1.],\n",
       "        [1., 1.]],\n",
       "\n",
       "       [[1., 1.],\n",
       "        [1., 1.],\n",
       "        [1., 1.],\n",
       "        [1., 1.]],\n",
       "\n",
       "       [[1., 1.],\n",
       "        [1., 1.],\n",
       "        [1., 1.],\n",
       "        [1., 1.]]])"
      ]
     },
     "execution_count": 17,
     "metadata": {},
     "output_type": "execute_result"
    }
   ],
   "source": [
    "Y = X.reshape(3, 4, 2)\n",
    "Y\n",
    "#reshape(): 먼저 만든 matrix를 또다른 matrix의 형태로 새롭게 만든다. \n",
    "#element의 총 개수를 그대로 유지하는 조건 하에, rectangular shape만 유지한다면 얼마든지 바꿔도 된다. "
   ]
  },
  {
   "cell_type": "code",
   "execution_count": 19,
   "metadata": {},
   "outputs": [
    {
     "data": {
      "text/plain": [
       "array([[1., 1., 1., 1.],\n",
       "       [1., 1., 1., 1.],\n",
       "       [1., 1., 1., 1.],\n",
       "       [1., 1., 1., 1.],\n",
       "       [1., 1., 1., 1.],\n",
       "       [1., 1., 1., 1.]])"
      ]
     },
     "execution_count": 19,
     "metadata": {},
     "output_type": "execute_result"
    }
   ],
   "source": [
    "Y = X.reshape(6, 4)\n",
    "Y\n",
    "#차원을 reduction 해도 된다. "
   ]
  },
  {
   "cell_type": "code",
   "execution_count": 21,
   "metadata": {
    "scrolled": true
   },
   "outputs": [
    {
     "data": {
      "text/plain": [
       "array([[[[1.],\n",
       "         [1.]],\n",
       "\n",
       "        [[1.],\n",
       "         [1.]]],\n",
       "\n",
       "\n",
       "       [[[1.],\n",
       "         [1.]],\n",
       "\n",
       "        [[1.],\n",
       "         [1.]]],\n",
       "\n",
       "\n",
       "       [[[1.],\n",
       "         [1.]],\n",
       "\n",
       "        [[1.],\n",
       "         [1.]]],\n",
       "\n",
       "\n",
       "       [[[1.],\n",
       "         [1.]],\n",
       "\n",
       "        [[1.],\n",
       "         [1.]]],\n",
       "\n",
       "\n",
       "       [[[1.],\n",
       "         [1.]],\n",
       "\n",
       "        [[1.],\n",
       "         [1.]]],\n",
       "\n",
       "\n",
       "       [[[1.],\n",
       "         [1.]],\n",
       "\n",
       "        [[1.],\n",
       "         [1.]]]])"
      ]
     },
     "execution_count": 21,
     "metadata": {},
     "output_type": "execute_result"
    }
   ],
   "source": [
    "Y = X.reshape(6, 2, 2, 1)\n",
    "Y\n",
    "#차원을 늘릴 수도 있다. "
   ]
  },
  {
   "cell_type": "code",
   "execution_count": 22,
   "metadata": {},
   "outputs": [
    {
     "data": {
      "text/plain": [
       "array([[[1., 1.],\n",
       "        [1., 1.],\n",
       "        [1., 1.]],\n",
       "\n",
       "       [[1., 1.],\n",
       "        [1., 1.],\n",
       "        [1., 1.]],\n",
       "\n",
       "       [[1., 1.],\n",
       "        [1., 1.],\n",
       "        [1., 1.]],\n",
       "\n",
       "       [[1., 1.],\n",
       "        [1., 1.],\n",
       "        [1., 1.]]])"
      ]
     },
     "execution_count": 22,
     "metadata": {},
     "output_type": "execute_result"
    }
   ],
   "source": [
    "Y = X.reshape(-1, 3, 2)\n",
    "Y\n",
    "#3x2의 행렬을 만들고 싶은데 총 개수를 모르겠다면 그냥 -1로 채워주면 알아서 계산한다. "
   ]
  },
  {
   "cell_type": "code",
   "execution_count": 23,
   "metadata": {},
   "outputs": [
    {
     "data": {
      "text/plain": [
       "True"
      ]
     },
     "execution_count": 23,
     "metadata": {},
     "output_type": "execute_result"
    }
   ],
   "source": [
    "np.allclose(X.reshape(-1, 3, 2), Y)\n",
    "#모든게 똑같은지 확인시켜주는 함수. 같으면 True, 아니면 False"
   ]
  },
  {
   "cell_type": "code",
   "execution_count": 24,
   "metadata": {},
   "outputs": [],
   "source": [
    "assert np.allclose(X.reshape(-1, 3, 2), Y)\n",
    "#위 함수와 같은 기능. 같으면 아무런 output이 나오지 않는다. "
   ]
  },
  {
   "cell_type": "markdown",
   "metadata": {},
   "source": [
    "### 3. NumPy I/O"
   ]
  },
  {
   "cell_type": "code",
   "execution_count": 29,
   "metadata": {},
   "outputs": [
    {
     "name": "stdout",
     "output_type": "stream",
     "text": [
      "[[3 3 2]\n",
      " [1 0 0]]\n",
      "[[0.79962951 0.70497604 0.53247172]\n",
      " [0.5529384  0.80139894 0.91333574]]\n"
     ]
    }
   ],
   "source": [
    "a = np.random.randint(0, 10, [2, 3])\n",
    "#랜덤으로 int형 변수를 받는데, 범위는 0이상 10미만, 2x3의 형태로 만들어라. \n",
    "b = np.random.random([2, 3])\n",
    "#랜덤 변수를 만들되, 2x3의 형태로 만들어라.\n",
    "print(a); print(b)"
   ]
  },
  {
   "cell_type": "code",
   "execution_count": 30,
   "metadata": {},
   "outputs": [],
   "source": [
    "np.savez(\"test\", a, b)\n",
    "#이렇게 랜덤으로 나온 a와 b의 값을 test에 저장한다. "
   ]
  },
  {
   "cell_type": "code",
   "execution_count": 31,
   "metadata": {},
   "outputs": [],
   "source": [
    "#!ls: 이 해당 파일이 있는 폴더에 있는 다른 파일들이 전부 뜬다. \n",
    "#!ls -al test*: test라는 이름이 들어있는 파일을 모두 찾아라. \n",
    "#리눅스 환경에서 실행 가능한 명령어"
   ]
  },
  {
   "cell_type": "code",
   "execution_count": 32,
   "metadata": {},
   "outputs": [
    {
     "name": "stdout",
     "output_type": "stream",
     "text": [
      "X\t Y\t a\t b\t data\t np\t plt\t \n"
     ]
    }
   ],
   "source": [
    "%who\n",
    "#현재 메모리에 어떤 변수들이 설정되어 있는지 알고 싶을 때 이 명령어를 쓴다. "
   ]
  },
  {
   "cell_type": "code",
   "execution_count": 33,
   "metadata": {},
   "outputs": [
    {
     "name": "stdout",
     "output_type": "stream",
     "text": [
      "X\t Y\t data\t np\t plt\t \n"
     ]
    }
   ],
   "source": [
    "del a, b\n",
    "#a와 b 변수를 지워라\n",
    "%who"
   ]
  },
  {
   "cell_type": "code",
   "execution_count": 34,
   "metadata": {},
   "outputs": [
    {
     "data": {
      "text/plain": [
       "['arr_0', 'arr_1']"
      ]
     },
     "execution_count": 34,
     "metadata": {},
     "output_type": "execute_result"
    }
   ],
   "source": [
    "npzfiles = np.load(\"test.npz\")\n",
    "npzfiles.files\n",
    "#앞서 저장한 test.npz 파일을 불러오는 방법"
   ]
  },
  {
   "cell_type": "code",
   "execution_count": 35,
   "metadata": {},
   "outputs": [
    {
     "data": {
      "text/plain": [
       "array([[3, 3, 2],\n",
       "       [1, 0, 0]])"
      ]
     },
     "execution_count": 35,
     "metadata": {},
     "output_type": "execute_result"
    }
   ],
   "source": [
    "npzfiles['arr_0']\n",
    "#해당 array 항목의 값까지 access 가능하다. "
   ]
  },
  {
   "cell_type": "code",
   "execution_count": 39,
   "metadata": {},
   "outputs": [
    {
     "name": "stdout",
     "output_type": "stream",
     "text": [
      "(17,)\n"
     ]
    },
    {
     "data": {
      "text/plain": [
       "array([( 3.3  , 1.7  ), ( 4.4  , 2.76 ), ( 5.5  , 2.09 ), ( 6.71 , 3.19 ),\n",
       "       ( 6.93 , 1.694), ( 4.168, 1.573), ( 9.779, 3.366), ( 6.182, 2.596),\n",
       "       ( 7.59 , 2.53 ), ( 2.167, 1.221), ( 7.042, 2.827), (10.791, 3.465),\n",
       "       ( 5.313, 1.65 ), ( 7.997, 2.904), ( 5.654, 2.42 ), ( 9.27 , 2.94 ),\n",
       "       ( 3.1  , 1.3  )], dtype=[('X', '<f4'), ('Y', '<f4')])"
      ]
     },
     "execution_count": 39,
     "metadata": {},
     "output_type": "execute_result"
    }
   ],
   "source": [
    "data = np.loadtxt(\"regression.csv\", delimiter=\",\", skiprows=1, dtype={'names':(\"X\", \"Y\"), 'formats':('f', 'f')})\n",
    "#파일 이름을 불러오고, \",\"로 구분이 되어 있으며, 1row를 skip하고, data type은 첫 번째 항목이 X, 두 번쨰 항목이 Y로 오되, format은 float이다. \n",
    "print(data.shape) #총 17개 정보\n",
    "data"
   ]
  },
  {
   "cell_type": "code",
   "execution_count": 41,
   "metadata": {},
   "outputs": [],
   "source": [
    "np.savetxt(\"regression_saved_1.csv\", data, delimiter = \",\")\n",
    "#위에서 저장한 data의 정보를 다시 다른 파일로 저장하는 방법"
   ]
  },
  {
   "cell_type": "markdown",
   "metadata": {},
   "source": [
    "### 4. Inspecting"
   ]
  },
  {
   "cell_type": "code",
   "execution_count": 42,
   "metadata": {},
   "outputs": [],
   "source": [
    "arr = np.random.random([5, 2, 3])"
   ]
  },
  {
   "cell_type": "code",
   "execution_count": 43,
   "metadata": {},
   "outputs": [
    {
     "name": "stdout",
     "output_type": "stream",
     "text": [
      "<class 'numpy.ndarray'>\n"
     ]
    }
   ],
   "source": [
    "print(type(arr))\n",
    "#array의 type"
   ]
  },
  {
   "cell_type": "code",
   "execution_count": 44,
   "metadata": {},
   "outputs": [
    {
     "name": "stdout",
     "output_type": "stream",
     "text": [
      "5\n"
     ]
    }
   ],
   "source": [
    "print(len(arr))\n",
    "#가장 앞의 개수만 받아오게 될 것"
   ]
  },
  {
   "cell_type": "code",
   "execution_count": 45,
   "metadata": {},
   "outputs": [
    {
     "name": "stdout",
     "output_type": "stream",
     "text": [
      "(5, 2, 3)\n"
     ]
    }
   ],
   "source": [
    "print(arr.shape)"
   ]
  },
  {
   "cell_type": "code",
   "execution_count": 46,
   "metadata": {},
   "outputs": [
    {
     "name": "stdout",
     "output_type": "stream",
     "text": [
      "3\n"
     ]
    }
   ],
   "source": [
    "print(arr.ndim)\n",
    "#array의 n dimension: 몇 차원인지 보여준다. "
   ]
  },
  {
   "cell_type": "code",
   "execution_count": 47,
   "metadata": {},
   "outputs": [
    {
     "name": "stdout",
     "output_type": "stream",
     "text": [
      "30\n"
     ]
    }
   ],
   "source": [
    "print(arr.size)\n",
    "#array의 개수, 크기"
   ]
  },
  {
   "cell_type": "code",
   "execution_count": 48,
   "metadata": {},
   "outputs": [
    {
     "name": "stdout",
     "output_type": "stream",
     "text": [
      "float64\n"
     ]
    }
   ],
   "source": [
    "print(arr.dtype)"
   ]
  },
  {
   "cell_type": "markdown",
   "metadata": {},
   "source": [
    "### 5. Operations\n",
    "\n",
    "#### 5.1 Arithmetic"
   ]
  },
  {
   "cell_type": "code",
   "execution_count": 49,
   "metadata": {},
   "outputs": [
    {
     "data": {
      "text/plain": [
       "(array([1, 2, 3, 4]), array([9, 8, 7, 6]))"
      ]
     },
     "execution_count": 49,
     "metadata": {},
     "output_type": "execute_result"
    }
   ],
   "source": [
    "a = np.arange(1, 5)\n",
    "b = np.arange(9, 5, -1)\n",
    "a, b\n",
    "#print(a); print(b)를 하지 않고 이렇게 출력해도 된다. 이렇게 출력하면 tuple로 나온다. \n",
    "#array에서는 차원의 개념이 그렇게 중요하지는 않다."
   ]
  },
  {
   "cell_type": "code",
   "execution_count": 51,
   "metadata": {},
   "outputs": [
    {
     "name": "stdout",
     "output_type": "stream",
     "text": [
      "[-8 -6 -4 -2]\n",
      "[ 9 16 21 24]\n"
     ]
    }
   ],
   "source": [
    "print(a - b)\n",
    "#a와 b가 같은 차원의 array이기 때문에 덧셈/뺄셈 가능하다. \n",
    "print(a * b)\n",
    "#곱셈의 경우 각 항목끼리의 곱셈을 한다. element by element"
   ]
  },
  {
   "cell_type": "code",
   "execution_count": 54,
   "metadata": {},
   "outputs": [
    {
     "data": {
      "text/plain": [
       "(matrix([[1, 2, 3, 4]]), matrix([[9, 8, 7, 6]]))"
      ]
     },
     "execution_count": 54,
     "metadata": {},
     "output_type": "execute_result"
    }
   ],
   "source": [
    "a = np.matrix(a)\n",
    "b = np.matrix(b)\n",
    "#array였던 a와 b를 matrix로 저장을 한다. \n",
    "a, b\n",
    "#matrix로 바꾸는 순간 bracket이 2개가 들어간다. 차원의 개념이 중요해지기 때문. "
   ]
  },
  {
   "cell_type": "code",
   "execution_count": 53,
   "metadata": {},
   "outputs": [
    {
     "data": {
      "text/plain": [
       "matrix([[70]])"
      ]
     },
     "execution_count": 53,
     "metadata": {},
     "output_type": "execute_result"
    }
   ],
   "source": [
    "a * b.T\n",
    "#1x1이기 때문에 bracket이 2개"
   ]
  },
  {
   "cell_type": "code",
   "execution_count": 56,
   "metadata": {},
   "outputs": [
    {
     "data": {
      "text/plain": [
       "matrix([[ 9,  8,  7,  6],\n",
       "        [18, 16, 14, 12],\n",
       "        [27, 24, 21, 18],\n",
       "        [36, 32, 28, 24]])"
      ]
     },
     "execution_count": 56,
     "metadata": {},
     "output_type": "execute_result"
    }
   ],
   "source": [
    "a.T * b"
   ]
  },
  {
   "cell_type": "markdown",
   "metadata": {},
   "source": [
    "#### 5.2 Comparison"
   ]
  },
  {
   "cell_type": "code",
   "execution_count": 57,
   "metadata": {},
   "outputs": [
    {
     "name": "stdout",
     "output_type": "stream",
     "text": [
      "[[1 2 3]\n",
      " [4 5 6]\n",
      " [7 8 9]]\n",
      "[[9 8 7]\n",
      " [6 5 4]\n",
      " [3 2 1]]\n"
     ]
    }
   ],
   "source": [
    "a = np.arange(1, 10).reshape(3, 3)\n",
    "b = np.arange(9, 0, -1).reshape(3, 3)\n",
    "print(a); print(b)"
   ]
  },
  {
   "cell_type": "code",
   "execution_count": 58,
   "metadata": {},
   "outputs": [
    {
     "data": {
      "text/plain": [
       "array([[False, False, False],\n",
       "       [False,  True, False],\n",
       "       [False, False, False]])"
      ]
     },
     "execution_count": 58,
     "metadata": {},
     "output_type": "execute_result"
    }
   ],
   "source": [
    "a == b\n",
    "#각 항목의 값이 같은지에 대한 결과를 보여준다. "
   ]
  },
  {
   "cell_type": "code",
   "execution_count": 60,
   "metadata": {},
   "outputs": [
    {
     "data": {
      "text/plain": [
       "array([[False, False, False],\n",
       "       [False,  True,  True],\n",
       "       [ True,  True,  True]])"
      ]
     },
     "execution_count": 60,
     "metadata": {},
     "output_type": "execute_result"
    }
   ],
   "source": [
    "a >= b\n",
    "#a의 항목이 b의 항목보다 크거나 같은지?"
   ]
  },
  {
   "cell_type": "code",
   "execution_count": 61,
   "metadata": {},
   "outputs": [
    {
     "data": {
      "text/plain": [
       "array([[False, False, False],\n",
       "       [False, False,  True],\n",
       "       [ True,  True,  True]])"
      ]
     },
     "execution_count": 61,
     "metadata": {},
     "output_type": "execute_result"
    }
   ],
   "source": [
    "a > b"
   ]
  },
  {
   "cell_type": "markdown",
   "metadata": {},
   "source": [
    "#### 5.3 Aggregate (sum, min, max, mean, median, std)"
   ]
  },
  {
   "cell_type": "code",
   "execution_count": 62,
   "metadata": {},
   "outputs": [
    {
     "data": {
      "text/plain": [
       "(45, 45)"
      ]
     },
     "execution_count": 62,
     "metadata": {},
     "output_type": "execute_result"
    }
   ],
   "source": [
    "a.sum(), np.sum(a)\n",
    "#합을 보여주는 두 가지 방법이 있다. "
   ]
  },
  {
   "cell_type": "code",
   "execution_count": 63,
   "metadata": {},
   "outputs": [
    {
     "data": {
      "text/plain": [
       "(array([12, 15, 18]), array([12, 15, 18]))"
      ]
     },
     "execution_count": 63,
     "metadata": {},
     "output_type": "execute_result"
    }
   ],
   "source": [
    "a.sum(axis = 0), np.sum(a, axis = 0)\n",
    "#하나의 축을 선택한다. 3x3의 경우 축이 2개: row/column\n",
    "#axis = 0이라면 row 방향을 말한다. row를 기준으로 합친다. 1+4+7 = 12"
   ]
  },
  {
   "cell_type": "code",
   "execution_count": 64,
   "metadata": {},
   "outputs": [
    {
     "data": {
      "text/plain": [
       "(array([ 6, 15, 24]), array([ 6, 15, 24]))"
      ]
     },
     "execution_count": 64,
     "metadata": {},
     "output_type": "execute_result"
    }
   ],
   "source": [
    "a.sum(axis = 1), np.sum(a, axis = 1)\n",
    "#column 방향으로 합치게 된다. 1+2+3 = 6"
   ]
  },
  {
   "cell_type": "markdown",
   "metadata": {},
   "source": [
    "### Broadcasting"
   ]
  },
  {
   "cell_type": "code",
   "execution_count": 65,
   "metadata": {},
   "outputs": [
    {
     "data": {
      "text/plain": [
       "array([[ 1,  2,  3,  4,  5,  6],\n",
       "       [ 7,  8,  9, 10, 11, 12],\n",
       "       [13, 14, 15, 16, 17, 18],\n",
       "       [19, 20, 21, 22, 23, 24]])"
      ]
     },
     "execution_count": 65,
     "metadata": {},
     "output_type": "execute_result"
    }
   ],
   "source": [
    "a = np.arange(1, 25).reshape(4, 6)\n",
    "a"
   ]
  },
  {
   "cell_type": "code",
   "execution_count": 66,
   "metadata": {},
   "outputs": [
    {
     "data": {
      "text/plain": [
       "array([[101, 102, 103, 104, 105, 106],\n",
       "       [107, 108, 109, 110, 111, 112],\n",
       "       [113, 114, 115, 116, 117, 118],\n",
       "       [119, 120, 121, 122, 123, 124]])"
      ]
     },
     "execution_count": 66,
     "metadata": {},
     "output_type": "execute_result"
    }
   ],
   "source": [
    "a + 100\n",
    "#array a의 각 항목에 100을 각각 더해라."
   ]
  },
  {
   "cell_type": "code",
   "execution_count": 68,
   "metadata": {},
   "outputs": [
    {
     "data": {
      "text/plain": [
       "array([0, 1, 2, 3, 4, 5])"
      ]
     },
     "execution_count": 68,
     "metadata": {},
     "output_type": "execute_result"
    }
   ],
   "source": [
    "b = np.arange(6)\n",
    "b"
   ]
  },
  {
   "cell_type": "code",
   "execution_count": 69,
   "metadata": {},
   "outputs": [
    {
     "data": {
      "text/plain": [
       "array([[ 1,  3,  5,  7,  9, 11],\n",
       "       [ 7,  9, 11, 13, 15, 17],\n",
       "       [13, 15, 17, 19, 21, 23],\n",
       "       [19, 21, 23, 25, 27, 29]])"
      ]
     },
     "execution_count": 69,
     "metadata": {},
     "output_type": "execute_result"
    }
   ],
   "source": [
    "a + b\n",
    "#matrix가 아니라 array이기 때문에 각 항목끼리 더해지게 된다. "
   ]
  },
  {
   "cell_type": "code",
   "execution_count": 70,
   "metadata": {},
   "outputs": [
    {
     "data": {
      "text/plain": [
       "array([[0],\n",
       "       [1],\n",
       "       [2],\n",
       "       [3]])"
      ]
     },
     "execution_count": 70,
     "metadata": {},
     "output_type": "execute_result"
    }
   ],
   "source": [
    "c = np.arange(4).reshape([4, 1])\n",
    "c"
   ]
  },
  {
   "cell_type": "code",
   "execution_count": 71,
   "metadata": {},
   "outputs": [
    {
     "data": {
      "text/plain": [
       "array([[ 1,  2,  3,  4,  5,  6],\n",
       "       [ 8,  9, 10, 11, 12, 13],\n",
       "       [15, 16, 17, 18, 19, 20],\n",
       "       [22, 23, 24, 25, 26, 27]])"
      ]
     },
     "execution_count": 71,
     "metadata": {},
     "output_type": "execute_result"
    }
   ],
   "source": [
    "a + c"
   ]
  },
  {
   "cell_type": "code",
   "execution_count": null,
   "metadata": {},
   "outputs": [],
   "source": []
  }
 ],
 "metadata": {
  "kernelspec": {
   "display_name": "Python 3",
   "language": "python",
   "name": "python3"
  },
  "language_info": {
   "codemirror_mode": {
    "name": "ipython",
    "version": 3
   },
   "file_extension": ".py",
   "mimetype": "text/x-python",
   "name": "python",
   "nbconvert_exporter": "python",
   "pygments_lexer": "ipython3",
   "version": "3.7.1"
  }
 },
 "nbformat": 4,
 "nbformat_minor": 2
}
