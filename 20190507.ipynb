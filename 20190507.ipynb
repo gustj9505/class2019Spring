{
 "cells": [
  {
   "cell_type": "markdown",
   "metadata": {},
   "source": [
    "#### Convolution Neural Network\n",
    "\n",
    "input이 3개(노드는 4개. 상수노드까지), output이 2개(노드는 2개)인 경우:\n",
    "\n",
    "    각각의 노드들이 fully connected 되어 있을 수도 있고(= dense)\n",
    "    연결되어 있지 않은 부분들이 있을 수도 있다. 이 경우, fully connected 되어 있는데 거기에 곱해지는 값이 0이라고 생각해보자. \n",
    "    이런 데이터들로 구현되는 중간 matrix는 4x2 행렬이다. \n",
    "\n",
    "계산된 행렬만 가지고 있다면 어떤 input을 받는다 해도 거기에 대한 output을 도출해낼 수 있다. "
   ]
  },
  {
   "cell_type": "markdown",
   "metadata": {},
   "source": [
    "input이 3개(노드는 4개), output이 2개(노드는 2개)인 경우지만 중간에 세 개의 노드로 한 단계가 더 있는 경우 - 3개의 layer가 있는 경우:\n",
    "    \n",
    "    두 가지의 행렬이 만들어져야 한다. \n",
    "    첫 행렬은 4개의 노드와 3개의 노드를 연결하는 4x3행렬, 두 번째 행렬은 3개의 노드와 output인 2개의 노드를 연결하는 3x2 행렬\n",
    "    \n",
    "##### 각 입출력 항목들은 node이고, 노드 사이를 연결하는 화살표는 edge이다. \n",
    "\n",
    "##### X = input, Y = target\n",
    "\n",
    "이런 수많은 입출력을 거치고 나면 중간에 있는 weight matrix가 도출된다.\n",
    "\n",
    "처음에 matrix를 가지기 위해서 가지고 있는 수많은 데이터의 pairwise는 (input, target)이다. 그렇게 만들어진 matrix를 이용해서 어느 input을 넣었을 때 나오는 결과값은 output이라고 한다. 같은 자리의 값을 이야기하지만 개념적으로는 다른 값을 말하고 있다. \n",
    "\n",
    "target값과 output값은 차이가 있을 수 있고, 그 차이를 error값이라고 한다. \n",
    "error를 적게 할수록 predict를 잘한다고 볼 수 있다. \n",
    "\n",
    "error를 줄이는 방법: \n",
    "    1. data를 많이 뽑는 것. --> 빅데이터\n",
    "    2. 많은 훈련을 시켜야 한다. Weight matrix가 더 이상 변하지 않을 때까지 반복학습을 시키는 것이 중요하다. "
   ]
  },
  {
   "cell_type": "markdown",
   "metadata": {},
   "source": [
    "layer는 겉으로 보여지지 않고 숨겨져있을 수 있는데, 이를 은닉층이라고 하고, hidden layer라고 한다. \n",
    "\n",
    "hidden layer가 많을수록, layer의 개수가 많아질수록 이 함수의 complexity가 올라간다. \n",
    "### > Deep learning\n",
    "\n",
    "------------------------------------------------------\n",
    "------------------------------------------------------"
   ]
  },
  {
   "cell_type": "markdown",
   "metadata": {},
   "source": [
    "### Linear: +, x\n",
    "\n",
    "x와 y의 관계가 linear하다면 그래프 상에 직선으로 나타날 수 있다. \n",
    "y = ax + b\n",
    "\n",
    "입력값이 continuous하게 들어올 때 출력값은 직선이 아닌 곡선으로 나타날 수도 있다. --> non-linerity, sigmoid \n",
    "\n",
    "실생활에서 continuous한 값으로 나오는 경우는 많이 없다. 패턴 인식으로 가는 경우(technical), linerity로는 잡을 수가 없다. \n",
    "\n",
    "그렇다면 어떻게 non linear한 것을 식에 포함시킬 것인가? \n",
    "y = sig(ax + b)\n",
    "\n"
   ]
  },
  {
   "cell_type": "markdown",
   "metadata": {},
   "source": [
    "### Regression과 classification의 관계\n",
    "\n",
    "regression: continuous한 값에서 continuous한 값으로 가는 것. \n",
    "classification: continuous한 값에서 discrete한 값으로 가는 것. \n",
    "\n",
    "커피 잔 수와 수면 시간의 관계: regression\n",
    "운동 시간과 수명의 관계: regression\n",
    "\n",
    "사진을 보여주고 남자인지 여자인지 맞추는 것: classification\n",
    "무지개를 보고 색깔을 7가지로 나누는 것: classification, 하지만 원래는 regression일 수 있다. 사람이 7가지로 나눈 것일 뿐이고, 실제로는 1000가지 색깔일 수도 있기 때문. 인간은 regression한 것을 classification으로 분류하려는 습성이 있다. \n"
   ]
  },
  {
   "cell_type": "code",
   "execution_count": null,
   "metadata": {},
   "outputs": [],
   "source": []
  }
 ],
 "metadata": {
  "kernelspec": {
   "display_name": "Python 3",
   "language": "python",
   "name": "python3"
  },
  "language_info": {
   "codemirror_mode": {
    "name": "ipython",
    "version": 3
   },
   "file_extension": ".py",
   "mimetype": "text/x-python",
   "name": "python",
   "nbconvert_exporter": "python",
   "pygments_lexer": "ipython3",
   "version": "3.7.1"
  }
 },
 "nbformat": 4,
 "nbformat_minor": 2
}
